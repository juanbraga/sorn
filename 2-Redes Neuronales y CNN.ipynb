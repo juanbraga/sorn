{
 "cells": [
  {
   "cell_type": "markdown",
   "metadata": {},
   "source": [
    "# REDES NEURONALES #"
   ]
  },
  {
   "cell_type": "markdown",
   "metadata": {},
   "source": [
    "## 1. INTRODUCCION ##"
   ]
  },
  {
   "cell_type": "markdown",
   "metadata": {},
   "source": [
    "En esta sesión vamos a trabajar sobre redes neuronales y como construir y entrenar una red neuronal desde cero. Los temas de esta sesión son los siguientes:\n",
    "1. **Repasar la teoría de redes neuronales:**\n",
    "    1. _Capas de una red y Función de activación_. \n",
    "    2. _Función objetivo (Loss Function)_.\n",
    "    3. _Backpropagation y optimización_.\n",
    "2. **Construir una red neuronal de una sola capa**\n",
    "3. **Construir una red neuronal de multiples capas**\n",
    "4. **Redes de convolución**"
   ]
  },
  {
   "cell_type": "markdown",
   "metadata": {},
   "source": [
    "**Los ejercicios de esta sección están basados en el curso:**  \n",
    "[Machine Learning Practical (MLP)](https://github.com/CSTR-Edinburgh/mlpractical/blob/mlp2018-9/master/notebooks/02_Single_layer_models.ipynb)    (University of Edinburgh)\n",
    "    "
   ]
  },
  {
   "cell_type": "markdown",
   "metadata": {},
   "source": [
    "## 2. RED DE UNA SOLA CAPA SINGLE LAYER NETWORK ##"
   ]
  },
  {
   "cell_type": "markdown",
   "metadata": {},
   "source": [
    "### 2.1 _FORWARD PROPAGATION_ ##"
   ]
  },
  {
   "cell_type": "code",
   "execution_count": null,
   "metadata": {},
   "outputs": [],
   "source": [
    "def fprop(inputs, weights, biases):\n",
    "    \"\"\"Forward propagates activations through the layer transformation.\n",
    "\n",
    "    For inputs `x`, outputs `y`, weights `W` and biases `b` the layer\n",
    "    corresponds to `y = W x + b`.\n",
    "\n",
    "    Args:\n",
    "        inputs: Array of layer inputs of shape (batch_size, input_dim).\n",
    "        weights: Array of weight parameters of shape \n",
    "            (output_dim, input_dim).\n",
    "        biases: Array of bias parameters of shape (output_dim, ).\n",
    "\n",
    "    Returns:\n",
    "        outputs: Array of layer outputs of shape (batch_size, output_dim).\n",
    "    \"\"\"\n",
    "    raise NotImplementedError('Delete this raise statement and write your code here instead.')"
   ]
  },
  {
   "cell_type": "markdown",
   "metadata": {},
   "source": [
    "### 2.1 _VERIFICAR RESULTADOS_ ###  "
   ]
  },
  {
   "cell_type": "code",
   "execution_count": null,
   "metadata": {},
   "outputs": [],
   "source": [
    "inputs = np.array([[0., -1., 2.], [-6., 3., 1.]])\n",
    "weights = np.array([[2., -3., -1.], [-5., 7., 2.]])\n",
    "biases = np.array([5., -3.])\n",
    "true_outputs = np.array([[6., -6.], [-17., 50.]])\n",
    "\n",
    "if not np.allclose(fprop(inputs, weights, biases), true_outputs):\n",
    "    print('Wrong outputs computed.')\n",
    "else:\n",
    "    print('All outputs correct!')"
   ]
  },
  {
   "cell_type": "markdown",
   "metadata": {},
   "source": [
    "### 2.2 BROADCASTING"
   ]
  }
 ],
 "metadata": {
  "kernelspec": {
   "display_name": "Python 3",
   "language": "python",
   "name": "python3"
  },
  "language_info": {
   "codemirror_mode": {
    "name": "ipython",
    "version": 3
   },
   "file_extension": ".py",
   "mimetype": "text/x-python",
   "name": "python",
   "nbconvert_exporter": "python",
   "pygments_lexer": "ipython3",
   "version": "3.6.8"
  }
 },
 "nbformat": 4,
 "nbformat_minor": 2
}
