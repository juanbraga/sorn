{
  "nbformat": 4,
  "nbformat_minor": 0,
  "metadata": {
    "colab": {
      "name": "python-intro.ipynb",
      "version": "0.3.2",
      "provenance": [],
      "include_colab_link": true
    },
    "kernelspec": {
      "name": "python3",
      "display_name": "Python 3"
    },
    "accelerator": "GPU"
  },
  "cells": [
    {
      "cell_type": "markdown",
      "metadata": {
        "id": "view-in-github",
        "colab_type": "text"
      },
      "source": [
        "<a href=\"https://colab.research.google.com/github/juanbraga/sorn/blob/master/python_intro.ipynb\" target=\"_parent\"><img src=\"https://colab.research.google.com/assets/colab-badge.svg\" alt=\"Open In Colab\"/></a>"
      ]
    },
    {
      "cell_type": "markdown",
      "metadata": {
        "id": "eVA7rvAWlV9I",
        "colab_type": "text"
      },
      "source": [
        "**Python** \n",
        "\n",
        "Para los acostumbrados a Matlab: http://wiki.scipy.org/NumPy_for_Matlab_Users\n",
        "\n",
        "Vamos a trabajar con CoLaboratory - entorno con python 3.\n",
        "\n",
        "\n",
        "\n",
        "**Agenda**\n",
        "\n",
        "1- Tipos de datos básicos\n",
        "\n",
        "2- Contenedores \n",
        "\n",
        "3- Declaración de funciones\n",
        "\n",
        "4- Numpy\n",
        "\n",
        "5- Scipy\n",
        "\n",
        "6- Matplotlib"
      ]
    },
    {
      "cell_type": "code",
      "metadata": {
        "id": "zmlGOXOTb5pB",
        "colab_type": "code",
        "colab": {
          "base_uri": "https://localhost:8080/",
          "height": 34
        },
        "outputId": "ec33a559-c56c-43f1-a601-515d7b70db70"
      },
      "source": [
        "def quicksort(arr):\n",
        "    if len(arr) <= 1:\n",
        "        return arr\n",
        "    pivot = arr[len(arr) // 2]\n",
        "    left = [x for x in arr if x < pivot]\n",
        "    middle = [x for x in arr if x == pivot]\n",
        "    right = [x for x in arr if x > pivot]\n",
        "    return quicksort(left) + middle + quicksort(right)\n",
        "\n",
        "print(quicksort([3,6,8,10,1,2,1]))"
      ],
      "execution_count": 1,
      "outputs": [
        {
          "output_type": "stream",
          "text": [
            "[1, 1, 2, 3, 6, 8, 10]\n"
          ],
          "name": "stdout"
        }
      ]
    },
    {
      "cell_type": "markdown",
      "metadata": {
        "id": "NmBUhmg6b8LS",
        "colab_type": "text"
      },
      "source": [
        "**1 - Tipos de datos básicos**\n",
        "\n",
        "Como otros lenguajes, Python tiene tipos basicos de datos en los que se incluye enteros, flotantes, booleanos y strings. \n",
        "\n",
        "\n",
        "**Números:**\n",
        "\n",
        "Funcionan como se esperaría de otros lenguajes."
      ]
    },
    {
      "cell_type": "code",
      "metadata": {
        "id": "SpKHKZw-6Mqb",
        "colab_type": "code",
        "colab": {
          "base_uri": "https://localhost:8080/",
          "height": 185
        },
        "outputId": "c1d779a8-a1e8-4835-aaf1-a62a1e6bda15"
      },
      "source": [
        "x = 3\n",
        "print(type(x)) # Prints \"<class 'int'>\"\n",
        "print(x)       # Prints \"3\"\n",
        "print(x + 1)   # Addition; prints \"4\"\n",
        "print(x - 1)   # Subtraction; prints \"2\"\n",
        "print(x * 2)   # Multiplication; prints \"6\"\n",
        "print(x ** 2)  # Exponentiation; prints \"9\"\n",
        "x += 1\n",
        "print(x)  # Prints \"4\"\n",
        "x *= 2\n",
        "print(x)  # Prints \"8\"\n",
        "y = 2.5\n",
        "print(type(y)) # Prints \"<class 'float'>\"\n",
        "print(y, y + 1, y * 2, y ** 2) # Prints \"2.5 3.5 5.0 6.25\""
      ],
      "execution_count": 1,
      "outputs": [
        {
          "output_type": "stream",
          "text": [
            "<class 'int'>\n",
            "3\n",
            "4\n",
            "2\n",
            "6\n",
            "9\n",
            "4\n",
            "8\n",
            "<class 'float'>\n",
            "2.5 3.5 5.0 6.25\n"
          ],
          "name": "stdout"
        }
      ]
    },
    {
      "cell_type": "markdown",
      "metadata": {
        "id": "bMTpMSgufKgq",
        "colab_type": "text"
      },
      "source": [
        "Notar que a diferencia de otros lenguajes no existe incrementar **x++** o decrementar **x--**.\n",
        "\n",
        "**Booleanos:** \n",
        "\n",
        "Python implementa las clásicas operaciones lógicas utilizando nombres en inglés:"
      ]
    },
    {
      "cell_type": "code",
      "metadata": {
        "id": "_4Tl1ECtlpwR",
        "colab_type": "code",
        "colab": {
          "base_uri": "https://localhost:8080/",
          "height": 101
        },
        "outputId": "daa373c7-78ff-428f-8979-e8099c6eaf75"
      },
      "source": [
        "t = True\n",
        "f = False\n",
        "print(type(t)) # Prints \"<class 'bool'>\"\n",
        "print(t and f) # Logical AND; prints \"False\"\n",
        "print(t or f)  # Logical OR; prints \"True\"\n",
        "print(not t)   # Logical NOT; prints \"False\"\n",
        "print(t != f)  # Logical XOR; prints \"True\""
      ],
      "execution_count": 2,
      "outputs": [
        {
          "output_type": "stream",
          "text": [
            "<class 'bool'>\n",
            "False\n",
            "True\n",
            "False\n",
            "True\n"
          ],
          "name": "stdout"
        }
      ]
    },
    {
      "cell_type": "markdown",
      "metadata": {
        "id": "cqYAgerkmBwJ",
        "colab_type": "text"
      },
      "source": [
        "**Strings:**\n",
        "\n",
        "Los strings en python son muy cómodos de utilizar."
      ]
    },
    {
      "cell_type": "code",
      "metadata": {
        "id": "GrKTTRL7mLLc",
        "colab_type": "code",
        "colab": {
          "base_uri": "https://localhost:8080/",
          "height": 84
        },
        "outputId": "6b7d98fd-d7e6-4f56-a254-24d212619877"
      },
      "source": [
        "hello = 'hello'    # String literals can use single quotes\n",
        "world = \"world\"    # or double quotes; it does not matter.\n",
        "print(hello)       # Prints \"hello\"\n",
        "print(len(hello))  # String length; prints \"5\"\n",
        "hw = hello + ' ' + world  # String concatenation\n",
        "print(hw)  # prints \"hello world\"\n",
        "hw12 = '%s %s %d' % (hello, world, 12)  # sprintf style string formatting\n",
        "print(hw12)  # prints \"hello world 12\""
      ],
      "execution_count": 3,
      "outputs": [
        {
          "output_type": "stream",
          "text": [
            "hello\n",
            "5\n",
            "hello world\n",
            "hello world 12\n"
          ],
          "name": "stdout"
        }
      ]
    },
    {
      "cell_type": "markdown",
      "metadata": {
        "id": "9nLjRjrWmbvG",
        "colab_type": "text"
      },
      "source": [
        "Tiene métodos muy útiles, se muestran a continuación algunos ejemplos para más detalle la documentación completa en: https://docs.python.org/3.5/library/stdtypes.html#string-methods"
      ]
    },
    {
      "cell_type": "code",
      "metadata": {
        "id": "qYmZTPFZmnXp",
        "colab_type": "code",
        "colab": {
          "base_uri": "https://localhost:8080/",
          "height": 118
        },
        "outputId": "3a6181cd-bd92-4e72-c912-4bedef175fb5"
      },
      "source": [
        "s = \"hello\"\n",
        "print(s.capitalize())  # Capitalize a string; prints \"Hello\"\n",
        "print(s.upper())       # Convert a string to uppercase; prints \"HELLO\"\n",
        "print(s.rjust(7))      # Right-justify a string, padding with spaces; prints \"  hello\"\n",
        "print(s.center(7))     # Center a string, padding with spaces; prints \" hello \"\n",
        "print(s.replace('l', '(ell)'))  # Replace all instances of one substring with another;\n",
        "                                # prints \"he(ell)(ell)o\"\n",
        "print('  world '.strip())  # Strip leading and trailing whitespace; prints \"world\""
      ],
      "execution_count": 4,
      "outputs": [
        {
          "output_type": "stream",
          "text": [
            "Hello\n",
            "HELLO\n",
            "  hello\n",
            " hello \n",
            "he(ell)(ell)o\n",
            "world\n"
          ],
          "name": "stdout"
        }
      ]
    },
    {
      "cell_type": "markdown",
      "metadata": {
        "id": "4ne50kAAm7bf",
        "colab_type": "text"
      },
      "source": [
        "**Ejercicio 1**\n",
        "\n",
        "Para procesar una base de datos es necesario levantar imágenes desde una carpeta de manera secuencial. Para eso se suele tener un .txt con ruta de las imágenes, de donde se toma la información necesaria para hacer el *load* del archivo. Se propone recorrer el archivo 'train.txt' e imprimr las rutas que contiene. "
      ]
    },
    {
      "cell_type": "code",
      "metadata": {
        "id": "eJuz9Iom2Sap",
        "colab_type": "code",
        "colab": {}
      },
      "source": [
        "from google.colab import drive\n",
        "drive.mount('/content/drive')"
      ],
      "execution_count": 0,
      "outputs": []
    }
  ]
}